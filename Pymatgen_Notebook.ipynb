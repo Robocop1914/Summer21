{
 "cells": [
  {
   "cell_type": "code",
   "execution_count": 3,
   "metadata": {},
   "outputs": [],
   "source": [
    "import matgen\n"
   ]
  },
  {
   "cell_type": "code",
   "execution_count": 1,
   "metadata": {},
   "outputs": [
    {
     "name": "stdout",
     "output_type": "stream",
     "text": [
      "Requirement already satisfied: pymatgen in /Users/emmanuelrowe/opt/anaconda3/lib/python3.8/site-packages (2021.2.16)\n",
      "Requirement already satisfied: pandas in /Users/emmanuelrowe/opt/anaconda3/lib/python3.8/site-packages (from pymatgen) (1.1.3)\n",
      "Requirement already satisfied: networkx>=2.2 in /Users/emmanuelrowe/opt/anaconda3/lib/python3.8/site-packages (from pymatgen) (2.5)\n",
      "Requirement already satisfied: sympy in /Users/emmanuelrowe/opt/anaconda3/lib/python3.8/site-packages (from pymatgen) (1.6.2)\n",
      "Requirement already satisfied: monty>=3.0.2 in /Users/emmanuelrowe/opt/anaconda3/lib/python3.8/site-packages (from pymatgen) (4.0.2)\n",
      "Requirement already satisfied: requests in /Users/emmanuelrowe/opt/anaconda3/lib/python3.8/site-packages (from pymatgen) (2.24.0)\n",
      "Requirement already satisfied: tabulate in /Users/emmanuelrowe/opt/anaconda3/lib/python3.8/site-packages (from pymatgen) (0.8.8)\n",
      "Requirement already satisfied: spglib>=1.9.9.44 in /Users/emmanuelrowe/opt/anaconda3/lib/python3.8/site-packages (from pymatgen) (1.16.1)\n",
      "Requirement already satisfied: uncertainties>=3.1.4 in /Users/emmanuelrowe/opt/anaconda3/lib/python3.8/site-packages (from pymatgen) (3.1.5)\n",
      "Requirement already satisfied: scipy>=1.5.0 in /Users/emmanuelrowe/opt/anaconda3/lib/python3.8/site-packages (from pymatgen) (1.5.2)\n",
      "Requirement already satisfied: plotly>=4.5.0 in /Users/emmanuelrowe/opt/anaconda3/lib/python3.8/site-packages (from pymatgen) (4.14.3)\n",
      "Requirement already satisfied: palettable>=3.1.1 in /Users/emmanuelrowe/opt/anaconda3/lib/python3.8/site-packages (from pymatgen) (3.3.0)\n",
      "Requirement already satisfied: ruamel.yaml>=0.15.6 in /Users/emmanuelrowe/opt/anaconda3/lib/python3.8/site-packages (from pymatgen) (0.15.87)\n",
      "Requirement already satisfied: numpy>=1.20.1 in /Users/emmanuelrowe/opt/anaconda3/lib/python3.8/site-packages (from pymatgen) (1.20.3)\n",
      "Requirement already satisfied: matplotlib>=1.5 in /Users/emmanuelrowe/opt/anaconda3/lib/python3.8/site-packages (from pymatgen) (3.3.2)\n",
      "Requirement already satisfied: python-dateutil>=2.7.3 in /Users/emmanuelrowe/opt/anaconda3/lib/python3.8/site-packages (from pandas->pymatgen) (2.8.1)\n",
      "Requirement already satisfied: pytz>=2017.2 in /Users/emmanuelrowe/opt/anaconda3/lib/python3.8/site-packages (from pandas->pymatgen) (2020.1)\n",
      "Requirement already satisfied: decorator>=4.3.0 in /Users/emmanuelrowe/opt/anaconda3/lib/python3.8/site-packages (from networkx>=2.2->pymatgen) (4.4.2)\n",
      "Requirement already satisfied: mpmath>=0.19 in /Users/emmanuelrowe/opt/anaconda3/lib/python3.8/site-packages (from sympy->pymatgen) (1.1.0)\n",
      "Requirement already satisfied: urllib3!=1.25.0,!=1.25.1,<1.26,>=1.21.1 in /Users/emmanuelrowe/opt/anaconda3/lib/python3.8/site-packages (from requests->pymatgen) (1.25.11)\n",
      "Requirement already satisfied: certifi>=2017.4.17 in /Users/emmanuelrowe/opt/anaconda3/lib/python3.8/site-packages (from requests->pymatgen) (2020.6.20)\n",
      "Requirement already satisfied: chardet<4,>=3.0.2 in /Users/emmanuelrowe/opt/anaconda3/lib/python3.8/site-packages (from requests->pymatgen) (3.0.4)\n",
      "Requirement already satisfied: idna<3,>=2.5 in /Users/emmanuelrowe/opt/anaconda3/lib/python3.8/site-packages (from requests->pymatgen) (2.10)\n",
      "Requirement already satisfied: future in /Users/emmanuelrowe/opt/anaconda3/lib/python3.8/site-packages (from uncertainties>=3.1.4->pymatgen) (0.18.2)\n",
      "Requirement already satisfied: retrying>=1.3.3 in /Users/emmanuelrowe/opt/anaconda3/lib/python3.8/site-packages (from plotly>=4.5.0->pymatgen) (1.3.3)\n",
      "Requirement already satisfied: six in /Users/emmanuelrowe/opt/anaconda3/lib/python3.8/site-packages (from plotly>=4.5.0->pymatgen) (1.15.0)\n",
      "Requirement already satisfied: kiwisolver>=1.0.1 in /Users/emmanuelrowe/opt/anaconda3/lib/python3.8/site-packages (from matplotlib>=1.5->pymatgen) (1.3.0)\n",
      "Requirement already satisfied: pyparsing!=2.0.4,!=2.1.2,!=2.1.6,>=2.0.3 in /Users/emmanuelrowe/opt/anaconda3/lib/python3.8/site-packages (from matplotlib>=1.5->pymatgen) (2.4.7)\n",
      "Requirement already satisfied: pillow>=6.2.0 in /Users/emmanuelrowe/opt/anaconda3/lib/python3.8/site-packages (from matplotlib>=1.5->pymatgen) (8.0.1)\n",
      "Requirement already satisfied: cycler>=0.10 in /Users/emmanuelrowe/opt/anaconda3/lib/python3.8/site-packages (from matplotlib>=1.5->pymatgen) (0.10.0)\n",
      "Note: you may need to restart the kernel to use updated packages.\n"
     ]
    }
   ],
   "source": [
    "pip install pymatgen"
   ]
  },
  {
   "cell_type": "code",
   "execution_count": 3,
   "metadata": {},
   "outputs": [],
   "source": [
    "import pymatgen"
   ]
  },
  {
   "cell_type": "code",
   "execution_count": 5,
   "metadata": {},
   "outputs": [
    {
     "name": "stdout",
     "output_type": "stream",
     "text": [
      "2021.2.16\n",
      "/Users/emmanuelrowe/opt/anaconda3/lib/python3.8/site-packages/pymatgen/__init__.py\n"
     ]
    }
   ],
   "source": [
    "print (pymatgen.__version__)\n",
    "print (pymatgen.__file__)"
   ]
  },
  {
   "cell_type": "code",
   "execution_count": 7,
   "metadata": {},
   "outputs": [
    {
     "name": "stdout",
     "output_type": "stream",
     "text": [
      "3.8.5 (default, Sep  4 2020, 02:22:02) \n",
      "[Clang 10.0.0 ]\n"
     ]
    }
   ],
   "source": [
    "import sys\n",
    "print(sys.version)"
   ]
  },
  {
   "cell_type": "code",
   "execution_count": 8,
   "metadata": {},
   "outputs": [],
   "source": [
    "from pymatgen import Molecule"
   ]
  },
  {
   "cell_type": "code",
   "execution_count": 10,
   "metadata": {},
   "outputs": [
    {
     "data": {
      "text/plain": [
       "Molecule Summary\n",
       "Site: C (0.0000, 0.0000, 0.0000)\n",
       "Site: O (0.0000, 0.0000, 1.2000)"
      ]
     },
     "execution_count": 10,
     "metadata": {},
     "output_type": "execute_result"
    }
   ],
   "source": [
    "c_monox = Molecule(['C','O'],[[0., 0., 0.],[0.,0.,1.2]])\n",
    "c_monox"
   ]
  },
  {
   "cell_type": "code",
   "execution_count": 12,
   "metadata": {},
   "outputs": [
    {
     "name": "stdout",
     "output_type": "stream",
     "text": [
      "Full Formula (C1 O1)\n",
      "Reduced Formula: CO\n",
      "Charge = 0.0, Spin Mult = 1\n",
      "Sites (2)\n",
      "0 C     0.000000     0.000000     0.000000\n",
      "1 O     0.000000     0.000000     1.200000\n"
     ]
    }
   ],
   "source": [
    "c_monox = Molecule(['C','O'],[[0., 0., 0.],[0.,0.,1.2]])\n",
    "print(c_monox)"
   ]
  },
  {
   "cell_type": "code",
   "execution_count": 14,
   "metadata": {},
   "outputs": [
    {
     "name": "stdout",
     "output_type": "stream",
     "text": [
      "Full Formula (H1 O1)\n",
      "Reduced Formula: H2O2\n",
      "Charge = -1, Spin Mult = 1\n",
      "Sites (2)\n",
      "0 O     0.000000     0.000000     0.000000\n",
      "1 H     0.000000     0.000000     1.000000\n"
     ]
    }
   ],
   "source": [
    "oh_minus = Molecule (['O','H'],[[0., 0., 0.],[0.,0.,1.0]], charge = -1 )\n",
    "print (oh_minus)"
   ]
  },
  {
   "cell_type": "code",
   "execution_count": 16,
   "metadata": {},
   "outputs": [
    {
     "name": "stdout",
     "output_type": "stream",
     "text": [
      "Full Formula (H1 O1)\n",
      "Reduced Formula: H2O2\n",
      "Charge = -1, Spin Mult = 3\n",
      "Sites (2)\n",
      "0 O     0.000000     0.000000     0.000000\n",
      "1 H     0.000000     0.000000     1.000000\n"
     ]
    }
   ],
   "source": [
    "#Changing to a triplet\n",
    "oh_minus = Molecule (['O','H'],[[0., 0., 0.],[0.,0.,1.0]], charge = -1, spin_multiplicity = 3 )\n",
    "print (oh_minus)"
   ]
  },
  {
   "cell_type": "code",
   "execution_count": 18,
   "metadata": {},
   "outputs": [
    {
     "ename": "NameError",
     "evalue": "name 'water' is not defined",
     "output_type": "error",
     "traceback": [
      "\u001b[0;31m---------------------------------------------------------------------------\u001b[0m",
      "\u001b[0;31mNameError\u001b[0m                                 Traceback (most recent call last)",
      "\u001b[0;32m<ipython-input-18-234b79a27ec7>\u001b[0m in \u001b[0;36m<module>\u001b[0;34m\u001b[0m\n\u001b[0;32m----> 1\u001b[0;31m \u001b[0mwater\u001b[0m\u001b[0;34m\u001b[0m\u001b[0;34m\u001b[0m\u001b[0m\n\u001b[0m",
      "\u001b[0;31mNameError\u001b[0m: name 'water' is not defined"
     ]
    }
   ],
   "source": [
    "water"
   ]
  }
 ],
 "metadata": {
  "kernelspec": {
   "display_name": "Python 3",
   "language": "python",
   "name": "python3"
  },
  "language_info": {
   "codemirror_mode": {
    "name": "ipython",
    "version": 3
   },
   "file_extension": ".py",
   "mimetype": "text/x-python",
   "name": "python",
   "nbconvert_exporter": "python",
   "pygments_lexer": "ipython3",
   "version": "3.8.5"
  }
 },
 "nbformat": 4,
 "nbformat_minor": 4
}
